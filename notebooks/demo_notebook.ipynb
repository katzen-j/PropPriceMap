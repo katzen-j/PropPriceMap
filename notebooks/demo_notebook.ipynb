{
 "cells": [
  {
   "cell_type": "code",
   "execution_count": 1,
   "id": "f6300bf3-bfe7-4346-8ba3-efd453e6e64f",
   "metadata": {},
   "outputs": [],
   "source": [
    "%load_ext autoreload\n",
    "%autoreload 2"
   ]
  },
  {
   "cell_type": "code",
   "execution_count": 2,
   "id": "770d853c-a8ec-49e5-a338-6a31a9d6d665",
   "metadata": {},
   "outputs": [],
   "source": [
    "from PropPriceMap.mapper import mapper\n",
    "import pandas as pd\n",
    "import numpy as np\n",
    "# %%time\n",
    "# gov_data_df = pd.read_csv(\"raw_data/towncity_master_01.csv\")\n",
    "localities = set(pd.read_csv(\"raw_data/localities.csv\").locality)\n",
    "towncities = set(pd.read_csv(\"raw_data/towncities.csv\").town_city)"
   ]
  },
  {
   "cell_type": "code",
   "execution_count": 6,
   "id": "d0bcfd1e-8fd6-43f8-8a86-c10c9266e153",
   "metadata": {},
   "outputs": [
    {
     "name": "stdin",
     "output_type": "stream",
     "text": [
      "Search by town/city [0] or postcode [1] 1\n",
      "Please enter full postcode (with spaces) or first outward code (e.g. WD6): sdsr344\n"
     ]
    },
    {
     "data": {
      "text/plain": [
       "'Postcode not found, please try again'"
      ]
     },
     "execution_count": 6,
     "metadata": {},
     "output_type": "execute_result"
    }
   ],
   "source": [
    "mapper(localities,towncities)"
   ]
  },
  {
   "cell_type": "code",
   "execution_count": 8,
   "id": "26e6ce26-a4b8-4060-ad75-4277666a3eb6",
   "metadata": {},
   "outputs": [],
   "source": [
    "import sqlite3"
   ]
  },
  {
   "cell_type": "code",
   "execution_count": 11,
   "id": "75a841b3-587a-4ef2-8380-e30a3c1afaa5",
   "metadata": {},
   "outputs": [
    {
     "name": "stdout",
     "output_type": "stream",
     "text": [
      "/home/joshk/code/katzen-j/PropPriceMap\n"
     ]
    }
   ],
   "source": [
    "!pwd"
   ]
  },
  {
   "cell_type": "code",
   "execution_count": 12,
   "id": "50351f6d-04a7-4bb9-a0b3-52bc1cb1a712",
   "metadata": {},
   "outputs": [],
   "source": [
    "df_cols = ['ID', 'price', 'date', 'postcode', 'poan', 'street', 'locality',\n",
    "       'town_city', 'district', 'county', 'latitude', 'longitude']\n",
    "conn = sqlite3.connect('raw_data/gov_housing_data_SQL')\n",
    "c = conn.cursor()\n",
    "\n",
    "query = \"\"\"\n",
    "SELECT *\n",
    "FROM gov_data_db as gd\n",
    "WHERE gd.postcode LIKE ?\n",
    "\"\"\"\n",
    "c.execute(query, ('WD6%',))\n",
    "datarows = c.fetchall()\n",
    "datarows = pd.DataFrame(datarows, columns=df_cols)\n",
    "\n",
    "c.close()\n",
    "conn.close()"
   ]
  },
  {
   "cell_type": "code",
   "execution_count": 13,
   "id": "a76d58be-2fab-4848-bc4f-557e3d9b52e1",
   "metadata": {},
   "outputs": [
    {
     "data": {
      "text/plain": [
       "586"
      ]
     },
     "execution_count": 13,
     "metadata": {},
     "output_type": "execute_result"
    }
   ],
   "source": [
    "len(datarows)"
   ]
  },
  {
   "cell_type": "code",
   "execution_count": 14,
   "id": "59749304-d671-4d96-a3ba-64b752bdb2d6",
   "metadata": {},
   "outputs": [
    {
     "data": {
      "text/html": [
       "<div>\n",
       "<style scoped>\n",
       "    .dataframe tbody tr th:only-of-type {\n",
       "        vertical-align: middle;\n",
       "    }\n",
       "\n",
       "    .dataframe tbody tr th {\n",
       "        vertical-align: top;\n",
       "    }\n",
       "\n",
       "    .dataframe thead th {\n",
       "        text-align: right;\n",
       "    }\n",
       "</style>\n",
       "<table border=\"1\" class=\"dataframe\">\n",
       "  <thead>\n",
       "    <tr style=\"text-align: right;\">\n",
       "      <th></th>\n",
       "      <th>ID</th>\n",
       "      <th>price</th>\n",
       "      <th>date</th>\n",
       "      <th>postcode</th>\n",
       "      <th>poan</th>\n",
       "      <th>street</th>\n",
       "      <th>locality</th>\n",
       "      <th>town_city</th>\n",
       "      <th>district</th>\n",
       "      <th>county</th>\n",
       "      <th>latitude</th>\n",
       "      <th>longitude</th>\n",
       "    </tr>\n",
       "  </thead>\n",
       "  <tbody>\n",
       "    <tr>\n",
       "      <th>0</th>\n",
       "      <td>5534</td>\n",
       "      <td>2200000</td>\n",
       "      <td>2021-01-06 00:00</td>\n",
       "      <td>WD6 3DL</td>\n",
       "      <td>1</td>\n",
       "      <td>LANDS END</td>\n",
       "      <td>ELSTREE</td>\n",
       "      <td>BOREHAMWOOD</td>\n",
       "      <td>HERTSMERE</td>\n",
       "      <td>HERTFORDSHIRE</td>\n",
       "      <td>51.645015</td>\n",
       "      <td>-0.302601</td>\n",
       "    </tr>\n",
       "    <tr>\n",
       "      <th>1</th>\n",
       "      <td>5539</td>\n",
       "      <td>385000</td>\n",
       "      <td>2021-01-11 00:00</td>\n",
       "      <td>WD6 5QH</td>\n",
       "      <td>11</td>\n",
       "      <td>ST NEOTS CLOSE</td>\n",
       "      <td>None</td>\n",
       "      <td>BOREHAMWOOD</td>\n",
       "      <td>HERTSMERE</td>\n",
       "      <td>HERTFORDSHIRE</td>\n",
       "      <td>51.671550</td>\n",
       "      <td>-0.280307</td>\n",
       "    </tr>\n",
       "    <tr>\n",
       "      <th>2</th>\n",
       "      <td>5540</td>\n",
       "      <td>275000</td>\n",
       "      <td>2021-06-25 00:00</td>\n",
       "      <td>WD6 5QH</td>\n",
       "      <td>16</td>\n",
       "      <td>ST NEOTS CLOSE</td>\n",
       "      <td>None</td>\n",
       "      <td>BOREHAMWOOD</td>\n",
       "      <td>HERTSMERE</td>\n",
       "      <td>HERTFORDSHIRE</td>\n",
       "      <td>51.671550</td>\n",
       "      <td>-0.280307</td>\n",
       "    </tr>\n",
       "    <tr>\n",
       "      <th>3</th>\n",
       "      <td>5541</td>\n",
       "      <td>297500</td>\n",
       "      <td>2021-06-17 00:00</td>\n",
       "      <td>WD6 5QH</td>\n",
       "      <td>14</td>\n",
       "      <td>ST NEOTS CLOSE</td>\n",
       "      <td>None</td>\n",
       "      <td>BOREHAMWOOD</td>\n",
       "      <td>HERTSMERE</td>\n",
       "      <td>HERTFORDSHIRE</td>\n",
       "      <td>51.671550</td>\n",
       "      <td>-0.280307</td>\n",
       "    </tr>\n",
       "    <tr>\n",
       "      <th>4</th>\n",
       "      <td>106241</td>\n",
       "      <td>425000</td>\n",
       "      <td>2021-02-26 00:00</td>\n",
       "      <td>WD6 5JP</td>\n",
       "      <td>26</td>\n",
       "      <td>ODDESEY ROAD</td>\n",
       "      <td>None</td>\n",
       "      <td>BOREHAMWOOD</td>\n",
       "      <td>HERTSMERE</td>\n",
       "      <td>HERTFORDSHIRE</td>\n",
       "      <td>51.667074</td>\n",
       "      <td>-0.268821</td>\n",
       "    </tr>\n",
       "  </tbody>\n",
       "</table>\n",
       "</div>"
      ],
      "text/plain": [
       "       ID    price              date postcode poan          street locality  \\\n",
       "0    5534  2200000  2021-01-06 00:00  WD6 3DL    1       LANDS END  ELSTREE   \n",
       "1    5539   385000  2021-01-11 00:00  WD6 5QH   11  ST NEOTS CLOSE     None   \n",
       "2    5540   275000  2021-06-25 00:00  WD6 5QH   16  ST NEOTS CLOSE     None   \n",
       "3    5541   297500  2021-06-17 00:00  WD6 5QH   14  ST NEOTS CLOSE     None   \n",
       "4  106241   425000  2021-02-26 00:00  WD6 5JP   26    ODDESEY ROAD     None   \n",
       "\n",
       "     town_city   district         county   latitude  longitude  \n",
       "0  BOREHAMWOOD  HERTSMERE  HERTFORDSHIRE  51.645015  -0.302601  \n",
       "1  BOREHAMWOOD  HERTSMERE  HERTFORDSHIRE  51.671550  -0.280307  \n",
       "2  BOREHAMWOOD  HERTSMERE  HERTFORDSHIRE  51.671550  -0.280307  \n",
       "3  BOREHAMWOOD  HERTSMERE  HERTFORDSHIRE  51.671550  -0.280307  \n",
       "4  BOREHAMWOOD  HERTSMERE  HERTFORDSHIRE  51.667074  -0.268821  "
      ]
     },
     "execution_count": 14,
     "metadata": {},
     "output_type": "execute_result"
    }
   ],
   "source": [
    "datarows.head()"
   ]
  },
  {
   "cell_type": "code",
   "execution_count": 17,
   "id": "63e63e64-f483-4f28-a53b-face1f375494",
   "metadata": {},
   "outputs": [
    {
     "data": {
      "text/plain": [
       "True"
      ]
     },
     "execution_count": 17,
     "metadata": {},
     "output_type": "execute_result"
    }
   ],
   "source": [
    "isinstance(datarows, pd.DataFrame)"
   ]
  },
  {
   "cell_type": "code",
   "execution_count": null,
   "id": "4ff05ea6-9357-4164-812d-eb916e60d266",
   "metadata": {},
   "outputs": [],
   "source": []
  }
 ],
 "metadata": {
  "kernelspec": {
   "display_name": "Python 3 (ipykernel)",
   "language": "python",
   "name": "python3"
  },
  "language_info": {
   "codemirror_mode": {
    "name": "ipython",
    "version": 3
   },
   "file_extension": ".py",
   "mimetype": "text/x-python",
   "name": "python",
   "nbconvert_exporter": "python",
   "pygments_lexer": "ipython3",
   "version": "3.8.12"
  }
 },
 "nbformat": 4,
 "nbformat_minor": 5
}
