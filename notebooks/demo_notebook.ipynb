{
 "cells": [
  {
   "cell_type": "code",
   "execution_count": 1,
   "id": "f6300bf3-bfe7-4346-8ba3-efd453e6e64f",
   "metadata": {},
   "outputs": [],
   "source": [
    "%load_ext autoreload\n",
    "%autoreload 2"
   ]
  },
  {
   "cell_type": "code",
   "execution_count": 2,
   "id": "770d853c-a8ec-49e5-a338-6a31a9d6d665",
   "metadata": {},
   "outputs": [],
   "source": [
    "from PropPriceMap.mapper import mapper\n",
    "import pandas as pd\n",
    "import numpy as np\n",
    "# %%time\n",
    "# gov_data_df = pd.read_csv(\"raw_data/towncity_master_01.csv\")\n",
    "localities = set(pd.read_csv(\"raw_data/localities.csv\").locality)\n",
    "towncities = set(pd.read_csv(\"raw_data/towncities.csv\").town_city)"
   ]
  },
  {
   "cell_type": "code",
   "execution_count": 6,
   "id": "d0bcfd1e-8fd6-43f8-8a86-c10c9266e153",
   "metadata": {},
   "outputs": [
    {
     "name": "stdin",
     "output_type": "stream",
     "text": [
      "Search by town/city [0] or postcode [1] 1\n",
      "Please enter full postcode (with spaces) or first outward code (e.g. WD6): sdsr344\n"
     ]
    },
    {
     "data": {
      "text/plain": [
       "'Postcode not found, please try again'"
      ]
     },
     "execution_count": 6,
     "metadata": {},
     "output_type": "execute_result"
    }
   ],
   "source": [
    "mapper(localities,towncities)"
   ]
  },
  {
   "cell_type": "code",
   "execution_count": 11,
   "id": "26e6ce26-a4b8-4060-ad75-4277666a3eb6",
   "metadata": {},
   "outputs": [],
   "source": [
    "import sqlite3"
   ]
  },
  {
   "cell_type": "code",
   "execution_count": 19,
   "id": "50351f6d-04a7-4bb9-a0b3-52bc1cb1a712",
   "metadata": {},
   "outputs": [],
   "source": [
    "conn = sqlite3.connect('raw_data/gov_housing_data_SQL')\n",
    "c = conn.cursor()\n",
    "\n",
    "query = \"\"\"\n",
    "SELECT *\n",
    "FROM gov_data_db as gd\n",
    "WHERE gd.postcode = ?\n",
    "\"\"\"\n",
    "c.execute(query, ('WD65 543FP',))\n",
    "datarows = c.fetchall()\n",
    "# datarows = pd.DataFrame(datarows, columns=df_cols)\n",
    "\n",
    "c.close()\n",
    "conn.close()"
   ]
  },
  {
   "cell_type": "code",
   "execution_count": 20,
   "id": "a76d58be-2fab-4848-bc4f-557e3d9b52e1",
   "metadata": {},
   "outputs": [
    {
     "data": {
      "text/plain": [
       "0"
      ]
     },
     "execution_count": 20,
     "metadata": {},
     "output_type": "execute_result"
    }
   ],
   "source": [
    "len(datarows)"
   ]
  },
  {
   "cell_type": "code",
   "execution_count": null,
   "id": "59749304-d671-4d96-a3ba-64b752bdb2d6",
   "metadata": {},
   "outputs": [],
   "source": []
  }
 ],
 "metadata": {
  "kernelspec": {
   "display_name": "Python 3 (ipykernel)",
   "language": "python",
   "name": "python3"
  },
  "language_info": {
   "codemirror_mode": {
    "name": "ipython",
    "version": 3
   },
   "file_extension": ".py",
   "mimetype": "text/x-python",
   "name": "python",
   "nbconvert_exporter": "python",
   "pygments_lexer": "ipython3",
   "version": "3.8.12"
  }
 },
 "nbformat": 4,
 "nbformat_minor": 5
}
